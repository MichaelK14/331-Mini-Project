{
  "nbformat": 4,
  "nbformat_minor": 0,
  "metadata": {
    "colab": {
      "provenance": [],
      "authorship_tag": "ABX9TyNM7Eua26HdGjNX4qLo9W+q",
      "include_colab_link": true
    },
    "kernelspec": {
      "name": "python3",
      "display_name": "Python 3"
    },
    "language_info": {
      "name": "python"
    }
  },
  "cells": [
    {
      "cell_type": "markdown",
      "metadata": {
        "id": "view-in-github",
        "colab_type": "text"
      },
      "source": [
        "<a href=\"https://colab.research.google.com/github/MichaelK14/331-Mini-Project/blob/main/Kimborowicz_Mini_Project.ipynb\" target=\"_parent\"><img src=\"https://colab.research.google.com/assets/colab-badge.svg\" alt=\"Open In Colab\"/></a>"
      ]
    },
    {
      "cell_type": "code",
      "source": [
        "import pandas as pd\n",
        "import yfinance as yf\n",
        "\n",
        "ticker = 'COST'\n",
        "Costco = yf.Ticker(ticker)\n",
        "\n",
        "class CostcoFinancials:\n",
        "    def __init__(self, file_path):\n",
        "        self.file_path = file_path\n",
        "        self.df = self.load_data()\n",
        "\n",
        "    def load_data(self):\n",
        "        df_excel = pd.read_excel(self.file_path)\n",
        "        df_excel = df_excel.dropna().reset_index(drop=True)\n",
        "        return df_excel\n",
        "\n",
        "    def get_data(self, row_name, year):\n",
        "        if row_name not in self.df['Year'].values:\n",
        "            return f\"Row '{row_name}' not found in data.\"\n",
        "        if year not in self.df.columns:\n",
        "            return f\"Year {year} not found in data.\"\n",
        "        value = self.df.loc[self.df['Year'] == row_name, year].values[0]\n",
        "        return float(str(value).replace('B', '')) * 1e9 if 'B' in str(value) else float(value)\n",
        "\n",
        "    def calculate_Net_Profit_Margin(self, year):\n",
        "        net_income = self.get_data('Net Income', year)\n",
        "        revenue = self.get_data(\"Sales/Revenue\", year)\n",
        "\n",
        "        if isinstance(net_income, str) or isinstance(revenue, str):\n",
        "            return \"Error: Missing data for net profit margin calculation.\"\n",
        "\n",
        "        NPM = (net_income / revenue) * 100\n",
        "        return f\"Net Profit Margin for {year}: {NPM:.2f}%\"\n",
        "\n",
        "    def calculate_Effective_Tax_Rate(self, year):\n",
        "        pre_tax = self.get_data('Pretax Income', year)\n",
        "        tax = self.get_data('Income Tax', year)\n",
        "\n",
        "        if isinstance(pre_tax, str) or isinstance(tax, str):\n",
        "            return \"Error: Missing data for net profit margin calculation.\"\n",
        "\n",
        "        ETR = (tax / pre_tax) * 100\n",
        "        return f\"Effective Tax Rate for {year}: {ETR:.2f}%\"\n",
        "\n",
        "    def calculate_Earnings_Yield(self, year):\n",
        "        eps = self.get_data('EPS (Basic)', year)\n",
        "\n",
        "        #start_date = f'{year}-01-01'\n",
        "        end_date = f'{year}-12-31'\n",
        "\n",
        "        data = yf.download(ticker, end=end_date)\n",
        "        year_end_price = data['Close'].iloc[-1] if len(data['Close']) > 0 else None\n",
        "        year_end_price = float(year_end_price)\n",
        "\n",
        "        if isinstance(eps, str) or isinstance(year_end_price, str):\n",
        "            return \"Error: Missing data for earnings yeild calculation.\"\n",
        "\n",
        "        EY = (eps / year_end_price) * 100\n",
        "        return f\"Earnings Yeild: {EY:.2f}%\"\n",
        "\n",
        "\n",
        "\n",
        "\n",
        "\n",
        "#Using the code\n",
        "\n",
        "file_path = 'Costco Financials.xlsx'\n",
        "costco_financials = CostcoFinancials(file_path)\n",
        "information = input('What financial information would you like to know form Costco\\'s income statement\\n(Net Profit Margin, Effecive Tax Rate, or Earnings Yeild): ')\n",
        "year = int(input(\"Enter year: \"))\n",
        "if information == 'Net Profit Margin':\n",
        "  print(costco_financials.calculate_Net_Profit_Margin(year))\n",
        "if information == 'Effective Tax Rate':\n",
        "  print(costco_financials.calculate_Effective_Tax_Rate(year))\n",
        "if information == 'Earnings Yeild':\n",
        "  earnings_yeild = costco_financials.calculate_Earnings_Yield(year)\n",
        "  print(earnings_yeild)\n",
        "\n",
        "\n",
        "\n",
        "\n",
        "\n",
        "\n",
        "\n",
        "\n"
      ],
      "metadata": {
        "colab": {
          "base_uri": "https://localhost:8080/"
        },
        "id": "5c2Waoo9Oc7r",
        "outputId": "bdbbcdcc-13db-4926-cace-7f4471dcc609"
      },
      "execution_count": null,
      "outputs": [
        {
          "name": "stdout",
          "output_type": "stream",
          "text": [
            "What financial information would you like to know form Costco's income statement\n",
            "(Net Profit Margin, Effecive Tax Rate, or Earnings Yeild): Earnings Yeild\n",
            "Enter year: 2021\n"
          ]
        },
        {
          "output_type": "stream",
          "name": "stderr",
          "text": [
            "\r[*********************100%***********************]  1 of 1 completed"
          ]
        },
        {
          "output_type": "stream",
          "name": "stdout",
          "text": [
            "Earnings Yeild: 2.09%\n"
          ]
        },
        {
          "output_type": "stream",
          "name": "stderr",
          "text": [
            "\n",
            "<ipython-input-22-54d9b93138a3>:53: FutureWarning: Calling float on a single element Series is deprecated and will raise a TypeError in the future. Use float(ser.iloc[0]) instead\n",
            "  year_end_price = float(year_end_price)\n"
          ]
        }
      ]
    },
    {
      "cell_type": "code",
      "source": [],
      "metadata": {
        "id": "pyazBvekl9o5"
      },
      "execution_count": null,
      "outputs": []
    }
  ]
}